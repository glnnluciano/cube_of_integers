{
 "cells": [
  {
   "cell_type": "markdown",
   "metadata": {},
   "source": [
    "## Lab 2 Exercise 2\n",
    "#### Compute for the cube of integers. "
   ]
  },
  {
   "cell_type": "code",
   "execution_count": null,
   "metadata": {},
   "outputs": [],
   "source": [
    "while True:\n",
    "    try:\n",
    "        size = int(input(\"Enter the size of the array: \"))\n",
    "        if size <= 0:\n",
    "            raise ValueError\n",
    "        break\n",
    "    except ValueError:\n",
    "        print(f\"\\033[91m Error: Size must be positive integer. \\033[0m\")\n",
    "\n",
    "\n",
    "while True:\n",
    "    try:   \n",
    "        array = (list(map(float, input(f\"Enter {size} numbers to be cube. Numbers must be separated by space.\").split())))\n",
    "        \n",
    "        if len(array) != size:\n",
    "            print(f\"\\033[91m Error: Must enter {size} numbers. \\033[0m\")\n",
    "        else:\n",
    "            break\n",
    "\n",
    "    except ValueError:\n",
    "        print(f\"\\033[91m Error: Must enter a valid number. \\033[0m\")\n",
    "\n",
    "    \n",
    "for num in array:\n",
    "    cubed_num = num**3\n",
    "    if (cubed_num - int(cubed_num)) == 0:\n",
    "        cubed_num = int(cubed_num)\n",
    "    print(cubed_num)"
   ]
  }
 ],
 "metadata": {
  "kernelspec": {
   "display_name": "Python 3",
   "language": "python",
   "name": "python3"
  },
  "language_info": {
   "codemirror_mode": {
    "name": "ipython",
    "version": 3
   },
   "file_extension": ".py",
   "mimetype": "text/x-python",
   "name": "python",
   "nbconvert_exporter": "python",
   "pygments_lexer": "ipython3",
   "version": "3.12.0"
  }
 },
 "nbformat": 4,
 "nbformat_minor": 2
}
